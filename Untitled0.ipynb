{
  "nbformat": 4,
  "nbformat_minor": 0,
  "metadata": {
    "colab": {
      "name": "Untitled0.ipynb",
      "provenance": [],
      "collapsed_sections": [],
      "authorship_tag": "ABX9TyMFVXMYKCJLy3PGvK0BBwgV",
      "include_colab_link": true
    },
    "kernelspec": {
      "name": "python3",
      "display_name": "Python 3"
    }
  },
  "cells": [
    {
      "cell_type": "markdown",
      "metadata": {
        "id": "view-in-github",
        "colab_type": "text"
      },
      "source": [
        "<a href=\"https://colab.research.google.com/github/hernandosalas/ML/blob/master/Untitled0.ipynb\" target=\"_parent\"><img src=\"https://colab.research.google.com/assets/colab-badge.svg\" alt=\"Open In Colab\"/></a>"
      ]
    },
    {
      "cell_type": "code",
      "metadata": {
        "id": "2NhRPwR_17ht",
        "colab_type": "code",
        "colab": {}
      },
      "source": [
        ""
      ],
      "execution_count": 0,
      "outputs": []
    },
    {
      "cell_type": "code",
      "metadata": {
        "id": "-UEuOD2W0DV7",
        "colab_type": "code",
        "colab": {}
      },
      "source": [
        "#LIBRARIES\n",
        "import pandas as pd\n",
        "import numpy as np\n",
        "from sklearn.tree import DecisionTreeRegressor\n",
        "from sklearn.ensemble import RandomForestRegressor\n",
        "from sklearn.pipeline import make_pipeline\n",
        "from sklearn.metrics import mean_absolute_error\n",
        "from sklearn.model_selection import train_test_split\n",
        "from sklearn.ensemble import RandomForestRegressor\n",
        "from sklearn.impute import SimpleImputer\n",
        "from xgboost import XGBRegressor\n",
        "from sklearn.ensemble.partial_dependence import partial_dependence, plot_partial_dependence\n",
        "from sklearn.pipeline import make_pipeline\n",
        "from sklearn.model_selection import cross_val_score\n",
        "import seaborn as sns\n",
        "from io import StringIO\n",
        "import matplotlib\n",
        "import matplotlib.pyplot as plt\n",
        "from sklearn.metrics import accuracy_score\n",
        "from sklearn.ensemble import RandomForestClassifier\n",
        "from sklearn.metrics import f1_score,confusion_matrix\n",
        "from sklearn.metrics import accuracy_score\n",
        "from sklearn.model_selection import StratifiedKFold\n",
        "from sklearn import svm, datasets\n",
        "from sklearn.model_selection import GridSearchCV\n",
        "from sklearn import model_selection\n",
        "from sklearn.linear_model import LogisticRegression\n",
        "from sklearn.tree import DecisionTreeClassifier\n",
        "from sklearn.neighbors import KNeighborsClassifier\n",
        "from sklearn.discriminant_analysis import LinearDiscriminantAnalysis\n",
        "from sklearn.naive_bayes import GaussianNB\n",
        "from sklearn.svm import SVC\n",
        "from sklearn.model_selection import train_test_split\n",
        "from sklearn.model_selection import cross_val_score\n",
        "from sklearn.metrics import mean_squared_error,confusion_matrix, precision_score, recall_score, auc,roc_curve\n",
        "from sklearn import ensemble, linear_model, neighbors, svm, tree, neural_network\n",
        "from sklearn.pipeline import make_pipeline\n",
        "from sklearn.linear_model import Ridge\n",
        "from sklearn.preprocessing import PolynomialFeatures\n",
        "from sklearn import svm,model_selection, tree, linear_model, neighbors, naive_bayes, ensemble, discriminant_analysis, gaussian_process\n",
        "from scipy import stats\n"
      ],
      "execution_count": 0,
      "outputs": []
    },
    {
      "cell_type": "code",
      "metadata": {
        "id": "xAzlZ1JI0n1Z",
        "colab_type": "code",
        "colab": {}
      },
      "source": [
        "# REMOVE WARNINGS\n",
        "import warnings\n",
        "warnings.filterwarnings('ignore')"
      ],
      "execution_count": 0,
      "outputs": []
    },
    {
      "cell_type": "code",
      "metadata": {
        "id": "jA5r-EPY0shl",
        "colab_type": "code",
        "colab": {}
      },
      "source": [
        "# LOADING CSV TO GOOGLE COLAB\n",
        "def loadCSVGoogleColab():\n",
        "\tfrom google.colab import files\n",
        "\tuploaded = files.upload()"
      ],
      "execution_count": 0,
      "outputs": []
    },
    {
      "cell_type": "code",
      "metadata": {
        "id": "3_ZxjSzA03Cf",
        "colab_type": "code",
        "colab": {}
      },
      "source": [
        "#JOIN TRAIN AND TEST DATASETS\n",
        "def joinTrainTest(trainCSV,testCSV):\n",
        "\ttrainData = pd.read_csv(trainCSV, header=0, sep=',', quotechar='\"')\n",
        "\ttestData = pd.read_csv(testCSV, header=0, sep=',', quotechar='\"')\n",
        "\tdataRaw= pd.concat([trainData,testData])\n",
        "\tdata = dataRaw.copy()\n",
        "\treturn data"
      ],
      "execution_count": 0,
      "outputs": []
    },
    {
      "cell_type": "code",
      "metadata": {
        "id": "gkcbqjeA05-T",
        "colab_type": "code",
        "colab": {}
      },
      "source": [
        "# LOAD CSV FROM LINK\n",
        "def loadCSV(csvfilelink):\n",
        "\tdataRaw = pd.read_csv(csvfilelink, header=0, sep=',', quotechar='\"')\n",
        "\tdata = dataRaw.copy()\n",
        "\treturn data"
      ],
      "execution_count": 0,
      "outputs": []
    },
    {
      "cell_type": "code",
      "metadata": {
        "id": "2mHN79z70-c3",
        "colab_type": "code",
        "colab": {}
      },
      "source": [
        "# Feature Selection (Dropping features not needed)\t\n",
        "def dropFeatures(df,featuresList):\n",
        "\tdrop_elements = featuresList\n",
        "\tdf = df.drop(drop_elements, axis = 1)\n",
        "\treturn df"
      ],
      "execution_count": 0,
      "outputs": []
    },
    {
      "cell_type": "code",
      "metadata": {
        "id": "LaX9Ioll0_IC",
        "colab_type": "code",
        "colab": {}
      },
      "source": [
        "# PROVIDE DATAFRAME INFO\n",
        "def dataInfo(df):\n",
        "\t# Well know question is is there any NaN value and length of this data so lets look at info\n",
        "\tdf.info()\n",
        "\tprint(\"\\n\")\n",
        "\t# How many NaNs\n",
        "\tprint(\"---How many NaNs---\",\"\\n\")\n",
        "\tprint(df.isnull().sum(),\"\\n\")\n",
        "\t# Dataframe Shape\n",
        "\tprint(\"---Dataframe Shape---\",\"\\n\")\n",
        "\tprint (df.shape)"
      ],
      "execution_count": 0,
      "outputs": []
    },
    {
      "cell_type": "code",
      "metadata": {
        "id": "eb6nLnAt1Awk",
        "colab_type": "code",
        "colab": {}
      },
      "source": [
        "# DROP NANs\n",
        "def dropNAN(df):\n",
        "\tprint(\"---Before dropping NaNs---\",\"\\n\")\n",
        "\tprint (df.shape)\n",
        "\tdf = df.dropna()\n",
        "\tprint(\"---After dropping NaNs---\",\"\\n\")\n",
        "\tprint (df.shape)\n",
        "\treturn df\n"
      ],
      "execution_count": 0,
      "outputs": []
    },
    {
      "cell_type": "code",
      "metadata": {
        "id": "5BDWdaLS1CcM",
        "colab_type": "code",
        "colab": {}
      },
      "source": [
        "# Plot Features Correlations\n",
        "def featuresCorrelation (df):\n",
        "\t#Lets see the Correlation between the features\n",
        "\tplt.figure(figsize=(14,12))\n",
        "\tsns.heatmap(df.astype(float).corr(),linewidths=0.1, \n",
        "\t\t\t\tsquare=True,  linecolor='white', annot=True)\n",
        "\tplt.show()"
      ],
      "execution_count": 0,
      "outputs": []
    },
    {
      "cell_type": "code",
      "metadata": {
        "id": "xF3Vcyde1EPC",
        "colab_type": "code",
        "colab": {}
      },
      "source": [
        "# Plot Target\n",
        "def plotTarget(df):\n",
        "\tax = sns.countplot(df.iloc[:,-1],label=\"Count\")\n",
        "\tA, B = df.iloc[:,-1].value_counts()\n",
        "\tprint('Number that Died: ',A)\n",
        "\tprint('Number that Survived : ',B)"
      ],
      "execution_count": 0,
      "outputs": []
    },
    {
      "cell_type": "code",
      "metadata": {
        "id": "BpouCotc1Fy7",
        "colab_type": "code",
        "colab": {}
      },
      "source": [
        "# Plot pair plot\t\n",
        "def plotPairPlot(df,targetName):\n",
        "\tsns.pairplot(data=df,hue=targetName, dropna=True)"
      ],
      "execution_count": 0,
      "outputs": []
    },
    {
      "cell_type": "code",
      "metadata": {
        "id": "-EwM5gv_1IZo",
        "colab_type": "code",
        "colab": {}
      },
      "source": [
        "# Transform categorical variables into dummy variables\n",
        "def hotDummyEnconding(df):\n",
        "\tdf = pd.get_dummies(df, drop_first=True)  # To avoid dummy trap\n",
        "\treturn df"
      ],
      "execution_count": 0,
      "outputs": []
    },
    {
      "cell_type": "code",
      "metadata": {
        "id": "mWL1HCy51JIb",
        "colab_type": "code",
        "colab": {}
      },
      "source": [
        "#Split data train and test\n",
        "def splitTrainTest(df,targetName):\n",
        "\tx_train, x_test, y_train, y_test = train_test_split(df.drop([targetName], axis = 1), df[targetName], test_size=0.2, random_state=42)\n",
        "\treturn x_train, x_test, y_train, y_test"
      ],
      "execution_count": 0,
      "outputs": []
    },
    {
      "cell_type": "code",
      "metadata": {
        "id": "uU8FaefX1V5Y",
        "colab_type": "code",
        "colab": {}
      },
      "source": [
        "#Normalizing Numerical Features\n",
        "def normalizeNumericalFeatures(df,featuresList):\n",
        "\tscaler = MinMaxScaler() # default=(0, 1)\n",
        "\tfeatures_log_minmax_transform = pd.DataFrame(df = features_log_transformed)\n",
        "\tfeatures_log_minmax_transform[featuresList] = scaler.fit_transform(features_log_transformed[featuresList])"
      ],
      "execution_count": 0,
      "outputs": []
    },
    {
      "cell_type": "code",
      "metadata": {
        "id": "daYOHPyM1Xn5",
        "colab_type": "code",
        "colab": {}
      },
      "source": [
        "#the importance of each feature\n",
        "def featuresImportance(forest,x_train):\n",
        "\tfeatures = pd.DataFrame()\n",
        "\tfeatures['feature'] = x_train.columns\n",
        "\tfeatures['importance'] = forest.feature_importances_\n",
        "\tfeatures.sort_values(by=['importance'], ascending=True, inplace=True)\n",
        "\tfeatures.set_index('feature', inplace=True)\n",
        "\tfeatures.plot(kind='barh', figsize=(10, 10))\n",
        "\treturn features"
      ],
      "execution_count": 0,
      "outputs": []
    },
    {
      "cell_type": "code",
      "metadata": {
        "id": "6hbvbs_J1ZVc",
        "colab_type": "code",
        "colab": {}
      },
      "source": [
        "def randomForestClassifier(x_train,y_train,x_test,y_test):\n",
        "\t#RANDOM FOREST\n",
        "\t# Define model\n",
        "\tparameters = {'bootstrap': True, 'min_samples_leaf': 1, 'n_estimators': 100, \n",
        "\t\t\t\t\t  'min_samples_split': 3, 'max_features': 'auto', 'max_depth': 6}\n",
        "\tforest = RandomForestClassifier(**parameters)\n",
        "\t# Fit model\n",
        "\tforest.fit(x_train, y_train)\n",
        "\tprint(\"Random Forest score: {0:.3}\".format(forest.score(x_test, y_test)))\n",
        "\tcm = confusion_matrix(y_test,forest.predict(x_test))\n",
        "\t# Heat map confusion matrix\n",
        "\tsns.heatmap(cm,annot=True,fmt=\"d\")\n",
        "\treturn forest"
      ],
      "execution_count": 0,
      "outputs": []
    },
    {
      "cell_type": "code",
      "metadata": {
        "id": "JaxIuaHK1bno",
        "colab_type": "code",
        "colab": {}
      },
      "source": [
        "def gridSearchForest(x_train,y_train):\n",
        "\t# turn run_gs to True if you want to run the gridsearch again.\n",
        "\trun_gs = True\n",
        "\ttrain = x_train\n",
        "\ttargets = y_train\n",
        "\n",
        "\tif run_gs:\n",
        "\t\tparameter_grid = {\n",
        "\t\t\t\t\t 'max_depth' : [4, 6, 8],\n",
        "\t\t\t\t\t 'n_estimators': [200, 100, 50],\n",
        "\t\t\t\t\t 'max_features': ['sqrt', 'auto', 'log2'],\n",
        "\t\t\t\t\t 'min_samples_split': [2, 3, 10],\n",
        "\t\t\t\t\t 'min_samples_leaf': [1, 3, 10],\n",
        "\t\t\t\t\t 'bootstrap': [True, False],\n",
        "\t\t\t\t\t }\n",
        "\t\tforest = RandomForestClassifier()\n",
        "\t\tcross_validation = StratifiedKFold(n_splits=5)\n",
        "\n",
        "\t\tgrid_search = GridSearchCV(forest,\n",
        "\t\t\t\t\t\t\t\t   scoring='accuracy',\n",
        "\t\t\t\t\t\t\t\t   param_grid=parameter_grid,\n",
        "\t\t\t\t\t\t\t\t   cv=cross_validation,\n",
        "\t\t\t\t\t\t\t\t   verbose=1\n",
        "\t\t\t\t\t\t\t\t  )\n",
        "\n",
        "\t\tgrid_search.fit(train, targets)\n",
        "\t\tmodel = grid_search\n",
        "\t\tparameters = grid_search.best_params_\n",
        "\n",
        "\t\tprint('Best score: {}'.format(grid_search.best_score_))\n",
        "\t\tprint('Best parameters: {}'.format(grid_search.best_params_))\n",
        "\t\t\n",
        "\telse: \n",
        "\t\tparameters = {'bootstrap': False, 'min_samples_leaf': 3, 'n_estimators': 50, \n",
        "\t\t\t\t\t  'min_samples_split': 10, 'max_features': 'sqrt', 'max_depth': 6}\n",
        "\t\t\n",
        "\t\tmodel = RandomForestClassifier(**parameters)\n",
        "\t\tmodel.fit(train, targets)"
      ],
      "execution_count": 0,
      "outputs": []
    },
    {
      "cell_type": "code",
      "metadata": {
        "id": "XDueHD281d_w",
        "colab_type": "code",
        "colab": {}
      },
      "source": [
        "def compareAlgorithms2(x_train,y_train,x_test,y_test):\n",
        "\t#Define X and Y\n",
        "\tX = x_train\n",
        "\tY = y_train\n",
        "\t# prepare configuration for cross validation test harness\n",
        "\tseed = 7\n",
        "\t# prepare models\n",
        "\tmodels = []\n",
        "\tmodels.append(('LogisticRegression', LogisticRegression()))\n",
        "\tmodels.append(('LinearDiscriminantAnalysis', LinearDiscriminantAnalysis()))\n",
        "\tmodels.append(('KNeighborsClassifier', KNeighborsClassifier()))\n",
        "\tmodels.append(('DecisionTreeClassifier', DecisionTreeClassifier()))\n",
        "\tmodels.append(('GaussianNB', GaussianNB()))\n",
        "\tmodels.append(('SupportVectorMachines', SVC()))\n",
        "\tmodels.append((\"RandomForestClassifier\", RandomForestClassifier()))\n",
        "\t# evaluate each model in turn\n",
        "\tresults = []\n",
        "\tnames = []\n",
        "\tscoring = 'accuracy'\n",
        "\tfor name, model in models:\n",
        "\t\tkfold = model_selection.KFold(n_splits=10, random_state=seed)\n",
        "\t\tcv_results = model_selection.cross_val_score(model, X, Y, cv=kfold, scoring=scoring)\n",
        "\t\tresults.append(cv_results)\n",
        "\t\tnames.append(name)\n",
        "\t\tmsg = \"%s: %f (%f)\" % (name, cv_results.mean(), cv_results.std())\n",
        "\t\t#print(msg)\n",
        "\t\t# Fit model\n",
        "\t\tmodel.fit(x_train, y_train)\n",
        "\t\tprint(name + \" Score: {0:.3}\".format(model.score(x_test, y_test)))"
      ],
      "execution_count": 0,
      "outputs": []
    },
    {
      "cell_type": "code",
      "metadata": {
        "id": "zAvskpHM1gFQ",
        "colab_type": "code",
        "colab": {}
      },
      "source": [
        "def compareAlgorithms(x_train,y_train,x_test,y_test,generateGraphs):\n",
        "\tMLA = [\n",
        "    #Ensemble Methods\n",
        "    ensemble.AdaBoostClassifier(),\n",
        "    ensemble.BaggingClassifier(),\n",
        "    ensemble.ExtraTreesClassifier(),\n",
        "    ensemble.GradientBoostingClassifier(),\n",
        "    ensemble.RandomForestClassifier(),\n",
        "\n",
        "    #Gaussian Processes\n",
        "    gaussian_process.GaussianProcessClassifier(),\n",
        "    \n",
        "    #GLM\n",
        "    linear_model.LogisticRegressionCV(),\n",
        "    linear_model.PassiveAggressiveClassifier(),\n",
        "    linear_model. RidgeClassifierCV(),\n",
        "    linear_model.SGDClassifier(),\n",
        "    linear_model.Perceptron(),\n",
        "    \n",
        "    #Navies Bayes\n",
        "    naive_bayes.BernoulliNB(),\n",
        "    naive_bayes.GaussianNB(),\n",
        "    \n",
        "    #Nearest Neighbor\n",
        "    neighbors.KNeighborsClassifier(),\n",
        "    \n",
        "    #SVM\n",
        "    svm.SVC(probability=True),\n",
        "    svm.NuSVC(probability=True),\n",
        "    svm.LinearSVC(),\n",
        "    \n",
        "    #Trees    \n",
        "    tree.DecisionTreeClassifier(),\n",
        "   #tree.ExtraTreeClassifier(),\n",
        "    ]\n",
        "\tMLA_columns = []\n",
        "\tMLA_compare = pd.DataFrame(columns = MLA_columns)\n",
        "\trow_index = 0\n",
        "\tfor alg in MLA:\n",
        "\t\t\n",
        "\t\t\n",
        "\t\tpredicted = alg.fit(x_train, y_train).predict(x_test)\n",
        "\t\tfp, tp, th = roc_curve(y_test, predicted)\n",
        "\t\tMLA_name = alg.__class__.__name__\n",
        "\t\tMLA_compare.loc[row_index,'MLA Name'] = MLA_name\n",
        "\t\tMLA_compare.loc[row_index, 'MLA Train Accuracy'] = round(alg.score(x_train, y_train), 4)\n",
        "\t\tMLA_compare.loc[row_index, 'MLA Test Accuracy'] = round(alg.score(x_test, y_test), 4)\n",
        "\t\tMLA_compare.loc[row_index, 'MLA Precission'] = precision_score(y_test, predicted)\n",
        "\t\tMLA_compare.loc[row_index, 'MLA Recall'] = recall_score(y_test, predicted)\n",
        "\t\tMLA_compare.loc[row_index, 'MLA AUC'] = auc(fp, tp)\n",
        "\n",
        "\t\trow_index+=1\n",
        "\t\t\n",
        "\tMLA_compare.sort_values(by = ['MLA Test Accuracy'], ascending = False, inplace = True)\n",
        "\tprint (MLA_compare)\n",
        "\tif generateGraphs:\n",
        "\t\t#MLA Train Accuracy\n",
        "\t\tplt.subplots(figsize=(15,6))\n",
        "\t\tsns.barplot(x=\"MLA Name\", y=\"MLA Train Accuracy\",data=MLA_compare,palette='hot',edgecolor=sns.color_palette('dark',7))\n",
        "\t\tplt.xticks(rotation=90)\n",
        "\t\tplt.title('MLA Train Accuracy Comparison')\n",
        "\t\tplt.show()\n",
        "\t\t#MLA Test Accuracy\n",
        "\t\tplt.subplots(figsize=(15,6))\n",
        "\t\tsns.barplot(x=\"MLA Name\", y=\"MLA Test Accuracy\",data=MLA_compare,palette='hot',edgecolor=sns.color_palette('dark',7))\n",
        "\t\tplt.xticks(rotation=90)\n",
        "\t\tplt.title('MLA Test Accuracy Comparison')\n",
        "\t\tplt.show()\n",
        "\t\t#MLA Precission\n",
        "\t\tplt.subplots(figsize=(15,6))\n",
        "\t\tsns.barplot(x=\"MLA Name\", y=\"MLA Precission\",data=MLA_compare,palette='hot',edgecolor=sns.color_palette('dark',7))\n",
        "\t\tplt.xticks(rotation=90)\n",
        "\t\tplt.title('MLA Precission Comparison')\n",
        "\t\tplt.show()\n",
        "\t\t#MLA Recall\n",
        "\t\tplt.subplots(figsize=(15,6))\n",
        "\t\tsns.barplot(x=\"MLA Name\", y=\"MLA Recall\",data=MLA_compare,palette='hot',edgecolor=sns.color_palette('dark',7))\n",
        "\t\tplt.xticks(rotation=90)\n",
        "\t\tplt.title('MLA Recall Comparison')\n",
        "\t\tplt.show()\n",
        "\t\t#MLA AUC\n",
        "\t\tplt.subplots(figsize=(15,6))\n",
        "\t\tsns.barplot(x=\"MLA Name\", y=\"MLA AUC\",data=MLA_compare,palette='hot',edgecolor=sns.color_palette('dark',7))\n",
        "\t\tplt.xticks(rotation=90)\n",
        "\t\tplt.title('MLA AUC Comparison')\n",
        "\t\tplt.show()\n",
        "\t\t#ROC Curve comparison\n",
        "\t\tindex = 1\n",
        "\t\tfor alg in MLA:\n",
        "\t\t\t\n",
        "\t\t\t\n",
        "\t\t\tpredicted = alg.fit(x_train, y_train).predict(x_test)\n",
        "\t\t\tfp, tp, th = roc_curve(y_test, predicted)\n",
        "\t\t\troc_auc_mla = auc(fp, tp)\n",
        "\t\t\tMLA_name = alg.__class__.__name__\n",
        "\t\t\tplt.plot(fp, tp, lw=2, alpha=0.3, label='ROC %s (AUC = %0.2f)'  % (MLA_name, roc_auc_mla))\n",
        "\t\t   \n",
        "\t\t\tindex+=1\n",
        "\n",
        "\t\tplt.title('ROC Curve comparison')\n",
        "\t\tplt.legend(bbox_to_anchor=(1.05, 1), loc=2, borderaxespad=0.)\n",
        "\t\tplt.plot([0,1],[0,1],'r--')\n",
        "\t\tplt.xlim([0,1])\n",
        "\t\tplt.ylim([0,1])\n",
        "\t\tplt.ylabel('True Positive Rate')\n",
        "\t\tplt.xlabel('False Positive Rate')    \n",
        "\t\tplt.show()\t\t"
      ],
      "execution_count": 0,
      "outputs": []
    },
    {
      "cell_type": "code",
      "metadata": {
        "id": "IQGeHu8k1jTT",
        "colab_type": "code",
        "colab": {}
      },
      "source": [
        "def dataVisual(df,targetName):\n",
        "\t\tsns.pairplot(data=df,hue=targetName, dropna=True)\n",
        "\t\tdf.plot(kind='density', subplots=True, layout=(3,3), sharex=False)\n",
        "\t\tplt.show()\n",
        "\t\t#Distribution Plot per Feature\n",
        "\t\t#sns.distplot(data.Age)\n",
        "\t\t#Violin Plot per Feature\n",
        "\t\t#sns.violinplot(x='Survived', y='Age', data=data)"
      ],
      "execution_count": 0,
      "outputs": []
    },
    {
      "cell_type": "code",
      "metadata": {
        "id": "vfL6k6r71l9_",
        "colab_type": "code",
        "colab": {}
      },
      "source": [
        "def removeOutliers(df,stddev):\n",
        "\t\tprint (\"Dataframe shape before removing outliers\")\n",
        "\t\tprint (df.shape)\n",
        "\t\tdf = df[(np.abs(stats.zscore(df)) < stddev).all(axis=1)]\n",
        "\t\tprint (\"Dataframe shape after removing outliers\")\n",
        "\t\tprint (df.shape)\n",
        "\t\treturn df"
      ],
      "execution_count": 0,
      "outputs": []
    },
    {
      "cell_type": "code",
      "metadata": {
        "id": "vFHm84ML1nqE",
        "colab_type": "code",
        "colab": {}
      },
      "source": [
        "def runTitanic():\n",
        "\t\tdata = joinTrainTest('train.csv','test.csv')\n",
        "\t\t# PROVIDE DATAFRAME INFO\n",
        "\t\tdataInfo(data)\n",
        "\n",
        "\t\tdata = dropFeatures(data,['Cabin','Name','Ticket'])\n",
        "\n",
        "\t\tdata = dropNAN(data)\n",
        "\n",
        "\t\t#Encoding categorical into numerical including column type\n",
        "\t\tdata['Sex'].replace(['female','male'],[str(0),str(1)],inplace=True)\n",
        "\t\tdata['Embarked'].replace(['S','C','Q'],[str(0),str(1),str(2)],inplace=True)\n",
        "\t\tdata[\"Embarked\"] = data[\"Embarked\"].astype(float)\n",
        "\t\tdata[\"Sex\"] = data[\"Sex\"].astype(float)\n",
        "\n",
        "\n",
        "\t\tdata = data[['PassengerId', 'Pclass', 'Sex', 'Age', 'SibSp', 'Parch', 'Fare', 'Embarked', 'Survived']]\n",
        "\t\treturn data"
      ],
      "execution_count": 0,
      "outputs": []
    },
    {
      "cell_type": "code",
      "metadata": {
        "id": "5eFpRjRI1tJH",
        "colab_type": "code",
        "colab": {}
      },
      "source": [
        "def main():\n",
        "\tdata = runTitanic()\n",
        "\tfeaturesCorrelation(data)\n",
        "\tx_train, x_test, y_train, y_test = splitTrainTest(data,'Income')\n",
        "\tforest = randomForestClassifier(x_train,y_train,x_test,y_test)\n",
        "\tfeaturesImportance(forest,x_train)\n",
        "\tplotTarget(data)\n",
        "\tdataVisual(data,\"Survived\")\n",
        "\tcompareAlgorithms2(x_train,y_train,x_test,y_test)\n",
        "\tcompareAlgorithms(x_train,y_train,x_test,y_test,'true')"
      ],
      "execution_count": 0,
      "outputs": []
    },
    {
      "cell_type": "code",
      "metadata": {
        "id": "0T8mGYLo3UuW",
        "colab_type": "code",
        "colab": {
          "base_uri": "https://localhost:8080/",
          "height": 198
        },
        "outputId": "61f35a78-a9b3-45a0-8e77-c7b877e5bd26"
      },
      "source": [
        "loadCSV('train.csv','train')\n",
        "loadCSV('test.csv','test')\n",
        "runTitanic()"
      ],
      "execution_count": 44,
      "outputs": [
        {
          "output_type": "error",
          "ename": "TypeError",
          "evalue": "ignored",
          "traceback": [
            "\u001b[0;31m---------------------------------------------------------------------------\u001b[0m",
            "\u001b[0;31mTypeError\u001b[0m                                 Traceback (most recent call last)",
            "\u001b[0;32m<ipython-input-44-54dc264ef570>\u001b[0m in \u001b[0;36m<module>\u001b[0;34m()\u001b[0m\n\u001b[0;32m----> 1\u001b[0;31m \u001b[0mloadCSV\u001b[0m\u001b[0;34m(\u001b[0m\u001b[0;34m'train.csv'\u001b[0m\u001b[0;34m,\u001b[0m\u001b[0;34m'train'\u001b[0m\u001b[0;34m)\u001b[0m\u001b[0;34m\u001b[0m\u001b[0;34m\u001b[0m\u001b[0m\n\u001b[0m\u001b[1;32m      2\u001b[0m \u001b[0mloadCSV\u001b[0m\u001b[0;34m(\u001b[0m\u001b[0;34m'test.csv'\u001b[0m\u001b[0;34m,\u001b[0m\u001b[0;34m'test'\u001b[0m\u001b[0;34m)\u001b[0m\u001b[0;34m\u001b[0m\u001b[0;34m\u001b[0m\u001b[0m\n\u001b[1;32m      3\u001b[0m \u001b[0mrunTitanic\u001b[0m\u001b[0;34m(\u001b[0m\u001b[0;34m)\u001b[0m\u001b[0;34m\u001b[0m\u001b[0;34m\u001b[0m\u001b[0m\n",
            "\u001b[0;31mTypeError\u001b[0m: loadCSV() takes 1 positional argument but 2 were given"
          ]
        }
      ]
    }
  ]
}