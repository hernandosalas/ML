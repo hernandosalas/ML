{
  "nbformat": 4,
  "nbformat_minor": 0,
  "metadata": {
    "colab": {
      "name": "Untitled0.ipynb",
      "provenance": [],
      "collapsed_sections": [],
      "authorship_tag": "ABX9TyNerTDVecbuk/cFWdXZP2PX",
      "include_colab_link": true
    },
    "kernelspec": {
      "name": "python3",
      "display_name": "Python 3"
    }
  },
  "cells": [
    {
      "cell_type": "markdown",
      "metadata": {
        "id": "view-in-github",
        "colab_type": "text"
      },
      "source": [
        "<a href=\"https://colab.research.google.com/github/hernandosalas/ML/blob/master/Untitled0.ipynb\" target=\"_parent\"><img src=\"https://colab.research.google.com/assets/colab-badge.svg\" alt=\"Open In Colab\"/></a>"
      ]
    },
    {
      "cell_type": "code",
      "metadata": {
        "id": "-UEuOD2W0DV7",
        "colab_type": "code",
        "colab": {}
      },
      "source": [
        "#LIBRARIES\n",
        "import pandas as pd\n",
        "import numpy as np\n",
        "from sklearn.tree import DecisionTreeRegressor\n",
        "from sklearn.ensemble import RandomForestRegressor\n",
        "from sklearn.pipeline import make_pipeline\n",
        "from sklearn.metrics import mean_absolute_error\n",
        "from sklearn.model_selection import train_test_split\n",
        "from sklearn.ensemble import RandomForestRegressor\n",
        "from sklearn.preprocessing import Imputer\n",
        "from xgboost import XGBRegressor\n",
        "from sklearn.ensemble.partial_dependence import partial_dependence, plot_partial_dependence\n",
        "from sklearn.pipeline import make_pipeline\n",
        "from sklearn.model_selection import cross_val_score\n",
        "import seaborn as sns\n",
        "from io import StringIO\n",
        "import matplotlib\n",
        "import matplotlib.pyplot as plt\n",
        "from sklearn.metrics import accuracy_score\n",
        "from sklearn.ensemble import RandomForestClassifier\n",
        "from sklearn.metrics import f1_score,confusion_matrix\n",
        "from sklearn.metrics import accuracy_score\n",
        "from sklearn.model_selection import StratifiedKFold\n",
        "from sklearn import svm, datasets\n",
        "from sklearn.model_selection import GridSearchCV\n",
        "from sklearn import model_selection\n",
        "from sklearn.linear_model import LogisticRegression\n",
        "from sklearn.tree import DecisionTreeClassifier\n",
        "from sklearn.neighbors import KNeighborsClassifier\n",
        "from sklearn.discriminant_analysis import LinearDiscriminantAnalysis\n",
        "from sklearn.naive_bayes import GaussianNB\n",
        "from sklearn.svm import SVC\n",
        "from sklearn.cross_validation import train_test_split, cross_val_score\n",
        "from sklearn.metrics import mean_squared_error,confusion_matrix, precision_score, recall_score, auc,roc_curve\n",
        "from sklearn import ensemble, linear_model, neighbors, svm, tree, neural_network\n",
        "from sklearn.pipeline import make_pipeline\n",
        "from sklearn.linear_model import Ridge\n",
        "from sklearn.preprocessing import PolynomialFeatures\n",
        "from sklearn import svm,model_selection, tree, linear_model, neighbors, naive_bayes, ensemble, discriminant_analysis, gaussian_process\n",
        "from scipy import stats\n"
      ],
      "execution_count": 0,
      "outputs": []
    },
    {
      "cell_type": "code",
      "metadata": {
        "id": "xAzlZ1JI0n1Z",
        "colab_type": "code",
        "colab": {}
      },
      "source": [
        "# REMOVE WARNINGS\n",
        "import warnings\n",
        "warnings.filterwarnings('ignore')"
      ],
      "execution_count": 0,
      "outputs": []
    },
    {
      "cell_type": "code",
      "metadata": {
        "id": "jA5r-EPY0shl",
        "colab_type": "code",
        "colab": {}
      },
      "source": [
        "# LOADING CSV TO GOOGLE COLAB\n",
        "def loadCSVGoogleColab():\n",
        "\tfrom google.colab import files\n",
        "\tuploaded = files.upload()"
      ],
      "execution_count": 0,
      "outputs": []
    },
    {
      "cell_type": "code",
      "metadata": {
        "id": "3_ZxjSzA03Cf",
        "colab_type": "code",
        "colab": {}
      },
      "source": [
        "#JOIN TRAIN AND TEST DATASETS\n",
        "def joinTrainTest(trainCSV,testCSV):\n",
        "\ttrainData = pd.read_csv(trainCSV, header=0, sep=',', quotechar='\"')\n",
        "\ttestData = pd.read_csv(testCSV, header=0, sep=',', quotechar='\"')\n",
        "\tdataRaw= pd.concat([trainData,testData])\n",
        "\tdata = dataRaw.copy()\n",
        "\treturn data"
      ],
      "execution_count": 0,
      "outputs": []
    },
    {
      "cell_type": "code",
      "metadata": {
        "id": "gkcbqjeA05-T",
        "colab_type": "code",
        "colab": {}
      },
      "source": [
        "# LOAD CSV FROM LINK\n",
        "def loadCSV(csvfilelink):\n",
        "\tdataRaw = pd.read_csv(csvfilelink, header=0, sep=',', quotechar='\"')\n",
        "\tdata = dataRaw.copy()\n",
        "\treturn data"
      ],
      "execution_count": 0,
      "outputs": []
    },
    {
      "cell_type": "code",
      "metadata": {
        "id": "2mHN79z70-c3",
        "colab_type": "code",
        "colab": {}
      },
      "source": [
        "# Feature Selection (Dropping features not needed)\t\n",
        "def dropFeatures(df,featuresList):\n",
        "\tdrop_elements = featuresList\n",
        "\tdf = df.drop(drop_elements, axis = 1)\n",
        "\treturn df"
      ],
      "execution_count": 0,
      "outputs": []
    },
    {
      "cell_type": "code",
      "metadata": {
        "id": "LaX9Ioll0_IC",
        "colab_type": "code",
        "colab": {}
      },
      "source": [
        "# PROVIDE DATAFRAME INFO\n",
        "def dataInfo(df):\n",
        "\t# Well know question is is there any NaN value and length of this data so lets look at info\n",
        "\tdf.info()\n",
        "\tprint(\"\\n\")\n",
        "\t# How many NaNs\n",
        "\tprint(\"---How many NaNs---\",\"\\n\")\n",
        "\tprint(df.isnull().sum(),\"\\n\")\n",
        "\t# Dataframe Shape\n",
        "\tprint(\"---Dataframe Shape---\",\"\\n\")\n",
        "\tprint (df.shape)"
      ],
      "execution_count": 0,
      "outputs": []
    },
    {
      "cell_type": "code",
      "metadata": {
        "id": "eb6nLnAt1Awk",
        "colab_type": "code",
        "colab": {}
      },
      "source": [
        "# DROP NANs\n",
        "def dropNAN(df):\n",
        "\tprint(\"---Before dropping NaNs---\",\"\\n\")\n",
        "\tprint (df.shape)\n",
        "\tdf = df.dropna()\n",
        "\tprint(\"---After dropping NaNs---\",\"\\n\")\n",
        "\tprint (df.shape)\n",
        "\treturn df\n"
      ],
      "execution_count": 0,
      "outputs": []
    },
    {
      "cell_type": "code",
      "metadata": {
        "id": "5BDWdaLS1CcM",
        "colab_type": "code",
        "colab": {}
      },
      "source": [
        "# Plot Features Correlations\n",
        "def featuresCorrelation (df):\n",
        "\t#Lets see the Correlation between the features\n",
        "\tplt.figure(figsize=(14,12))\n",
        "\tsns.heatmap(df.astype(float).corr(),linewidths=0.1, \n",
        "\t\t\t\tsquare=True,  linecolor='white', annot=True)\n",
        "\tplt.show()"
      ],
      "execution_count": 0,
      "outputs": []
    },
    {
      "cell_type": "code",
      "metadata": {
        "id": "xF3Vcyde1EPC",
        "colab_type": "code",
        "colab": {}
      },
      "source": [
        "# Plot Target\n",
        "def plotTarget(df):\n",
        "\tax = sns.countplot(df.iloc[:,-1],label=\"Count\")\n",
        "\tA, B = df.iloc[:,-1].value_counts()\n",
        "\tprint('Number that Died: ',A)\n",
        "\tprint('Number that Survived : ',B)"
      ],
      "execution_count": 0,
      "outputs": []
    },
    {
      "cell_type": "code",
      "metadata": {
        "id": "BpouCotc1Fy7",
        "colab_type": "code",
        "colab": {}
      },
      "source": [
        "# Plot pair plot\t\n",
        "def plotPairPlot(df,targetName):\n",
        "\tsns.pairplot(data=df,hue=targetName, dropna=True)"
      ],
      "execution_count": 0,
      "outputs": []
    },
    {
      "cell_type": "code",
      "metadata": {
        "id": "-EwM5gv_1IZo",
        "colab_type": "code",
        "colab": {}
      },
      "source": [
        "# Transform categorical variables into dummy variables\n",
        "def hotDummyEnconding(df):\n",
        "\tdf = pd.get_dummies(df, drop_first=True)  # To avoid dummy trap\n",
        "\treturn df"
      ],
      "execution_count": 0,
      "outputs": []
    },
    {
      "cell_type": "code",
      "metadata": {
        "id": "mWL1HCy51JIb",
        "colab_type": "code",
        "colab": {}
      },
      "source": [
        "#Split data train and test\n",
        "def splitTrainTest(df,targetName):\n",
        "\tx_train, x_test, y_train, y_test = train_test_split(df.drop([targetName], axis = 1), df[targetName], test_size=0.2, random_state=42)\n",
        "\treturn x_train, x_test, y_train, y_test"
      ],
      "execution_count": 0,
      "outputs": []
    }
  ]
}